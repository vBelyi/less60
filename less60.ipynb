{
 "cells": [
  {
   "cell_type": "code",
   "execution_count": 1,
   "id": "3382fa1d",
   "metadata": {},
   "outputs": [],
   "source": [
    "import cv2\n",
    "import numpy as np\n",
    "import matplotlib.pyplot as plt"
   ]
  },
  {
   "cell_type": "code",
   "execution_count": 6,
   "id": "3dce6ccf",
   "metadata": {},
   "outputs": [],
   "source": [
    "image = cv2.imread('image12.jpg', cv2.IMREAD_GRAYSCALE)"
   ]
  },
  {
   "cell_type": "markdown",
   "id": "72546529",
   "metadata": {},
   "source": [
    "## Реалізація фільтру Собеля для виділення вертикальних та горизонтальних границь"
   ]
  },
  {
   "cell_type": "code",
   "execution_count": 10,
   "id": "09094a1a",
   "metadata": {},
   "outputs": [],
   "source": [
    "# Фільтр Собеля для виявлення горизонтальних границь\n",
    "sobel_x = cv2.Sobel(image, cv2.CV_64F, 1, 0, ksize=3)\n",
    "\n",
    "# Фільтр Собеля для виявлення вертикальних границь\n",
    "sobel_y = cv2.Sobel(image, cv2.CV_64F, 0, 1, ksize=3)\n",
    "\n",
    "# Перетворення результатів у діапазон від 0 до 255\n",
    "sobel_x = cv2.convertScaleAbs(sobel_x)\n",
    "sobel_y = cv2.convertScaleAbs(sobel_y)\n",
    "\n",
    "# Показати обидва результати\n",
    "cv2.imshow('Horizontal Edges', sobel_x)\n",
    "cv2.imshow('Vertical Edges', sobel_y)\n",
    "cv2.waitKey(0)\n",
    "cv2.destroyAllWindows()"
   ]
  },
  {
   "cell_type": "markdown",
   "id": "1583b3f2",
   "metadata": {},
   "source": [
    "## Реалізація фільтру Canny для виділення границь на зображенні."
   ]
  },
  {
   "cell_type": "code",
   "execution_count": 11,
   "id": "b6ace10f",
   "metadata": {},
   "outputs": [],
   "source": [
    "# Розмиття зображення для зменшення шуму\n",
    "blurred = cv2.GaussianBlur(image, (5, 5), 0)\n",
    "\n",
    "# Виявлення градієнтів за допомогою фільтрів Собеля\n",
    "gradient_x = cv2.Sobel(blurred, cv2.CV_64F, 1, 0, ksize=3)\n",
    "gradient_y = cv2.Sobel(blurred, cv2.CV_64F, 0, 1, ksize=3)\n",
    "\n",
    "# Визначення магнітуди та кута градієнту\n",
    "gradient_magnitude = cv2.magnitude(gradient_x, gradient_y)\n",
    "gradient_angle = cv2.phase(gradient_x, gradient_y, angleInDegrees=True)\n",
    "\n",
    "# Використовуйте пороговий метод для вибору границь\n",
    "low_threshold = 50\n",
    "high_threshold = 150\n",
    "edges = cv2.Canny(image, low_threshold, high_threshold)\n",
    "\n",
    "# Показати результат\n",
    "cv2.imshow('Canny Edges', edges)\n",
    "cv2.waitKey(0)\n",
    "cv2.destroyAllWindows()"
   ]
  },
  {
   "cell_type": "markdown",
   "id": "13b75742",
   "metadata": {},
   "source": [
    "## Реалізація фільтру Робертса для виділення границь на зображенні"
   ]
  },
  {
   "cell_type": "code",
   "execution_count": 12,
   "id": "426b9c28",
   "metadata": {},
   "outputs": [],
   "source": [
    "# Визначення фільтрів Робертса\n",
    "roberts_x = np.array([[1, 0], [0, -1]])\n",
    "roberts_y = np.array([[0, 1], [-1, 0]])\n",
    "\n",
    "# Застосування фільтрів за допомогою згортки\n",
    "gradient_x = cv2.filter2D(image, cv2.CV_64F, roberts_x)\n",
    "gradient_y = cv2.filter2D(image, cv2.CV_64F, roberts_y)\n",
    "\n",
    "# Обчислення магнітуди градієнту\n",
    "gradient_magnitude = np.sqrt(gradient_x**2 + gradient_y**2)\n",
    "\n",
    "# Перетворення результатів у діапазон від 0 до 255\n",
    "gradient_magnitude = cv2.convertScaleAbs(gradient_magnitude)\n",
    "\n",
    "# Показати результат\n",
    "cv2.imshow('Roberts Edges', gradient_magnitude)\n",
    "cv2.waitKey(0)\n",
    "cv2.destroyAllWindows()"
   ]
  },
  {
   "cell_type": "code",
   "execution_count": null,
   "id": "3e0cbf87",
   "metadata": {},
   "outputs": [],
   "source": [
    "\"\"\"\n",
    "Можна зробити висновок, що якщо потрібно знайти загальні границі в різних напрямках, включаючи горизонтальні та вертикальні,\n",
    "то фільтр Собеля буде хорошим вибором. Фільтр Кенні є найкращим варіантом для визначення границь і підходить для вимогливих\n",
    "завдань з обробки зображень. Фільтр Робертса добре підходить коли потрібно виявити діагональні границі.\n",
    "\"\"\""
   ]
  }
 ],
 "metadata": {
  "kernelspec": {
   "display_name": "Python 3 (ipykernel)",
   "language": "python",
   "name": "python3"
  },
  "language_info": {
   "codemirror_mode": {
    "name": "ipython",
    "version": 3
   },
   "file_extension": ".py",
   "mimetype": "text/x-python",
   "name": "python",
   "nbconvert_exporter": "python",
   "pygments_lexer": "ipython3",
   "version": "3.9.13"
  }
 },
 "nbformat": 4,
 "nbformat_minor": 5
}
